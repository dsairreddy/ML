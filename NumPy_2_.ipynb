{
  "nbformat": 4,
  "nbformat_minor": 0,
  "metadata": {
    "colab": {
      "provenance": [],
      "authorship_tag": "ABX9TyPHVv/T+8Jbff4tzCyVPBYm",
      "include_colab_link": true
    },
    "kernelspec": {
      "name": "python3",
      "display_name": "Python 3"
    },
    "language_info": {
      "name": "python"
    }
  },
  "cells": [
    {
      "cell_type": "markdown",
      "metadata": {
        "id": "view-in-github",
        "colab_type": "text"
      },
      "source": [
        "<a href=\"https://colab.research.google.com/github/dsairreddy/ML/blob/main/NumPy_2_.ipynb\" target=\"_parent\"><img src=\"https://colab.research.google.com/assets/colab-badge.svg\" alt=\"Open In Colab\"/></a>"
      ]
    },
    {
      "cell_type": "code",
      "execution_count": null,
      "metadata": {
        "id": "YKRqlVE-3Ovr"
      },
      "outputs": [],
      "source": [
        "import numpy as np"
      ]
    },
    {
      "cell_type": "code",
      "source": [
        "R1 = np.eye(4)\n",
        "R1"
      ],
      "metadata": {
        "colab": {
          "base_uri": "https://localhost:8080/"
        },
        "id": "JNS-n2iq3cpG",
        "outputId": "1f2f192c-e496-4e2c-9ec5-6d1562889177"
      },
      "execution_count": null,
      "outputs": [
        {
          "output_type": "execute_result",
          "data": {
            "text/plain": [
              "array([[1., 0., 0., 0.],\n",
              "       [0., 1., 0., 0.],\n",
              "       [0., 0., 1., 0.],\n",
              "       [0., 0., 0., 1.]])"
            ]
          },
          "metadata": {},
          "execution_count": 3
        }
      ]
    },
    {
      "cell_type": "code",
      "source": [
        "R2 = np.random.randint(10,20,(4,4))\n",
        "R2"
      ],
      "metadata": {
        "colab": {
          "base_uri": "https://localhost:8080/"
        },
        "id": "AldAjCE_5iwc",
        "outputId": "9ea6e813-00ac-4a56-a6a9-91f8889089d8"
      },
      "execution_count": null,
      "outputs": [
        {
          "output_type": "execute_result",
          "data": {
            "text/plain": [
              "array([[10, 18, 11, 12],\n",
              "       [13, 12, 10, 14],\n",
              "       [11, 16, 12, 12],\n",
              "       [18, 18, 15, 15]])"
            ]
          },
          "metadata": {},
          "execution_count": 4
        }
      ]
    },
    {
      "cell_type": "code",
      "source": [
        "Res = np.dot(R1,R2)\n",
        "Res\n",
        "# M . I = I . M = M"
      ],
      "metadata": {
        "colab": {
          "base_uri": "https://localhost:8080/"
        },
        "id": "t4bV7B6j5_Rt",
        "outputId": "8dcc6b17-b807-4c24-df82-7014206e1995"
      },
      "execution_count": null,
      "outputs": [
        {
          "output_type": "execute_result",
          "data": {
            "text/plain": [
              "array([[10., 18., 11., 12.],\n",
              "       [13., 12., 10., 14.],\n",
              "       [11., 16., 12., 12.],\n",
              "       [18., 18., 15., 15.]])"
            ]
          },
          "metadata": {},
          "execution_count": 7
        }
      ]
    },
    {
      "cell_type": "code",
      "source": [
        "# Mathematical Operations\n",
        "# + - * /\n",
        "T2 = np.random.randint(3,6,(3,3))\n",
        "T1 = np.random.randint(3,6,(3,3))\n",
        "T3 = T1 * T2\n",
        "T3"
      ],
      "metadata": {
        "colab": {
          "base_uri": "https://localhost:8080/"
        },
        "id": "HCPd542_8fHK",
        "outputId": "9ee34d59-0cc8-4a87-8358-f6c22742c2f2"
      },
      "execution_count": null,
      "outputs": [
        {
          "output_type": "execute_result",
          "data": {
            "text/plain": [
              "array([[25, 25, 20],\n",
              "       [20, 15, 20],\n",
              "       [15, 12, 12]])"
            ]
          },
          "metadata": {},
          "execution_count": 37
        }
      ]
    },
    {
      "cell_type": "code",
      "source": [
        "\n",
        "# Statistical Operations\n",
        "T3.mean()\n",
        "\n",
        "T3.max()\n",
        "np.median(T3)\n",
        "Std = np.std(T3) # standard deviations 'std'\n",
        "np.var(T3)"
      ],
      "metadata": {
        "colab": {
          "base_uri": "https://localhost:8080/"
        },
        "id": "BM6YoD-y9Z1R",
        "outputId": "36a409de-7f83-4ea6-a5cf-6bdc056d233a"
      },
      "execution_count": null,
      "outputs": [
        {
          "output_type": "execute_result",
          "data": {
            "text/plain": [
              "16.22222222222222"
            ]
          },
          "metadata": {},
          "execution_count": 14
        }
      ]
    },
    {
      "cell_type": "code",
      "source": [
        "Std*Std # is equal to std"
      ],
      "metadata": {
        "colab": {
          "base_uri": "https://localhost:8080/"
        },
        "id": "E7o1ArO--7hm",
        "outputId": "88fde0ec-fc83-48e6-c85a-bed5ff99915e"
      },
      "execution_count": null,
      "outputs": [
        {
          "output_type": "execute_result",
          "data": {
            "text/plain": [
              "16.22222222222222"
            ]
          },
          "metadata": {},
          "execution_count": 15
        }
      ]
    },
    {
      "cell_type": "code",
      "source": [
        "# Trigonometric functions\n",
        "# sin(x)\n",
        "# cos(x)\n",
        "# tan(x)\n",
        "# cosec(x) - 1 / sin(x)\n",
        "# sec(x) - 1 / cos(x)\n",
        "# cot(x) - 1 / tan(x)\n",
        "angles= np.array([10,20,30,40,50,60,70])\n",
        "np.sin(np.radians(angles))\n",
        "np.tan(np.radians(angles))\n",
        "np.cos(np.radians(angles))"
      ],
      "metadata": {
        "colab": {
          "base_uri": "https://localhost:8080/"
        },
        "id": "eiM4gEx7_DOb",
        "outputId": "bd6bff92-ef6f-4bb7-c5da-ef8a73202e9a"
      },
      "execution_count": null,
      "outputs": [
        {
          "output_type": "execute_result",
          "data": {
            "text/plain": [
              "array([0.98480775, 0.93969262, 0.8660254 , 0.76604444, 0.64278761,\n",
              "       0.5       , 0.34202014])"
            ]
          },
          "metadata": {},
          "execution_count": 22
        }
      ]
    },
    {
      "cell_type": "code",
      "source": [
        "# change array shape\n",
        "# .reshape()\n",
        "\n",
        "array = np.array([1,2,3,4,5,6])\n",
        "array= array.reshape(3,2)\n",
        "array"
      ],
      "metadata": {
        "colab": {
          "base_uri": "https://localhost:8080/"
        },
        "id": "wDvUSFTWAw02",
        "outputId": "63726e40-1d0a-4a9c-b7d1-b3d11f3ef6a6"
      },
      "execution_count": null,
      "outputs": [
        {
          "output_type": "execute_result",
          "data": {
            "text/plain": [
              "array([[1, 2],\n",
              "       [3, 4],\n",
              "       [5, 6]])"
            ]
          },
          "metadata": {},
          "execution_count": 27
        }
      ]
    },
    {
      "cell_type": "code",
      "source": [
        "# convert or flatten any n dim array\n",
        "array.flatten()"
      ],
      "metadata": {
        "colab": {
          "base_uri": "https://localhost:8080/"
        },
        "id": "9yE2wuyNCFAY",
        "outputId": "606ba094-47c2-46b5-9c8f-6275d2493c0d"
      },
      "execution_count": null,
      "outputs": [
        {
          "output_type": "execute_result",
          "data": {
            "text/plain": [
              "array([1, 2, 3, 4, 5, 6])"
            ]
          },
          "metadata": {},
          "execution_count": 28
        }
      ]
    },
    {
      "cell_type": "code",
      "source": [
        "# Stacking Data\n",
        "# Helps to attach 2 arrays\n",
        "# 1. Vstack 2. Hstack\n",
        "arr1 = np.array([1,2,3,4])\n",
        "arr2 = np.array([1,2,3,4])\n",
        "\n",
        "arr3 = np.vstack((arr1,arr2))\n",
        "arr3.shape"
      ],
      "metadata": {
        "colab": {
          "base_uri": "https://localhost:8080/"
        },
        "id": "u-XsgPGTEbfC",
        "outputId": "405bff58-8503-4e51-a6f6-8ea55ddd6f6e"
      },
      "execution_count": null,
      "outputs": [
        {
          "output_type": "execute_result",
          "data": {
            "text/plain": [
              "(2, 4)"
            ]
          },
          "metadata": {},
          "execution_count": 31
        }
      ]
    },
    {
      "cell_type": "code",
      "source": [
        "arr4 = np.hstack((arr1,arr2))\n",
        "arr4"
      ],
      "metadata": {
        "colab": {
          "base_uri": "https://localhost:8080/"
        },
        "id": "RUgxPsqXFXtH",
        "outputId": "4e48bc9a-03b4-46d6-eab3-a199af49f3dd"
      },
      "execution_count": null,
      "outputs": [
        {
          "output_type": "execute_result",
          "data": {
            "text/plain": [
              "array([1, 2, 3, 4, 1, 2, 3, 4])"
            ]
          },
          "metadata": {},
          "execution_count": 32
        }
      ]
    },
    {
      "cell_type": "code",
      "source": [
        "# Filtering\n",
        "arr= np.array([1,2,3,42,6,7,8])\n",
        "Farr= arr[arr > 40]\n",
        "Farr"
      ],
      "metadata": {
        "colab": {
          "base_uri": "https://localhost:8080/"
        },
        "id": "9yEogtBSGHuc",
        "outputId": "35b7fcf3-5088-493b-d801-8cdbb5d2c899"
      },
      "execution_count": null,
      "outputs": [
        {
          "output_type": "execute_result",
          "data": {
            "text/plain": [
              "array([42])"
            ]
          },
          "metadata": {},
          "execution_count": 36
        }
      ]
    },
    {
      "cell_type": "code",
      "source": [],
      "metadata": {
        "id": "Od4YqffgHOgk"
      },
      "execution_count": null,
      "outputs": []
    }
  ]
}