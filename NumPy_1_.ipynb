{
  "nbformat": 4,
  "nbformat_minor": 0,
  "metadata": {
    "colab": {
      "provenance": [],
      "authorship_tag": "ABX9TyOoe1mirnrKrY5iLCcx07zY",
      "include_colab_link": true
    },
    "kernelspec": {
      "name": "python3",
      "display_name": "Python 3"
    },
    "language_info": {
      "name": "python"
    }
  },
  "cells": [
    {
      "cell_type": "markdown",
      "metadata": {
        "id": "view-in-github",
        "colab_type": "text"
      },
      "source": [
        "<a href=\"https://colab.research.google.com/github/dsairreddy/ML/blob/main/NumPy_1_.ipynb\" target=\"_parent\"><img src=\"https://colab.research.google.com/assets/colab-badge.svg\" alt=\"Open In Colab\"/></a>"
      ]
    },
    {
      "cell_type": "code",
      "execution_count": null,
      "metadata": {
        "id": "Ryn_fYlMtKHA"
      },
      "outputs": [],
      "source": [
        "# Install numpy -\n",
        "#.    pip3 install numpy // pip install numpy\n",
        "# speed (list operations)< speed(Numpy operations)\n",
        "# Memory optimization (numpy) > memory optimization (\n",
        ")"
      ]
    },
    {
      "cell_type": "code",
      "source": [
        "import numpy as np"
      ],
      "metadata": {
        "id": "ehOoXO5zv_Th"
      },
      "execution_count": null,
      "outputs": []
    },
    {
      "cell_type": "code",
      "source": [
        "# Create a Numpy Array\n",
        "# 1D Array\n",
        "arr1D = np.array([1,2,3,4,5])\n",
        "arr1D"
      ],
      "metadata": {
        "colab": {
          "base_uri": "https://localhost:8080/"
        },
        "id": "bND7Yo_YwbDq",
        "outputId": "1ff9a2af-4ebd-45a1-bcb5-16e8a9ce83e2"
      },
      "execution_count": null,
      "outputs": [
        {
          "output_type": "execute_result",
          "data": {
            "text/plain": [
              "array([1, 2, 3, 4, 5])"
            ]
          },
          "metadata": {},
          "execution_count": 5
        }
      ]
    },
    {
      "cell_type": "code",
      "source": [
        "\n",
        "# Create 2d Array - Matrix\n",
        "# 2D Array - ([A],\n",
        "#             [B])\n",
        "arr2D = np.array([[1,2,3],[4,5,6]])\n",
        "arr2D"
      ],
      "metadata": {
        "colab": {
          "base_uri": "https://localhost:8080/"
        },
        "id": "t4QCSyOLxSqK",
        "outputId": "8f0c2946-d187-4a44-eecd-dea934655aac"
      },
      "execution_count": null,
      "outputs": [
        {
          "output_type": "execute_result",
          "data": {
            "text/plain": [
              "array([[1, 2, 3],\n",
              "       [4, 5, 6]])"
            ]
          },
          "metadata": {},
          "execution_count": 48
        }
      ]
    },
    {
      "cell_type": "code",
      "source": [
        "# Creating Arrays with default or\n",
        "#.  Same values\n",
        "# Creating matrix with ones\n",
        "allZER0S = np.zeros((2,3))\n",
        "\n",
        "AllOnes = np.ones((2,3))\n",
        "AllOnes"
      ],
      "metadata": {
        "colab": {
          "base_uri": "https://localhost:8080/"
        },
        "id": "Sobdr7oAzBMk",
        "outputId": "9b726a9b-d310-4a46-edc0-5d5b3cdacd96"
      },
      "execution_count": null,
      "outputs": [
        {
          "output_type": "execute_result",
          "data": {
            "text/plain": [
              "array([[1., 1., 1.],\n",
              "       [1., 1., 1.]])"
            ]
          },
          "metadata": {},
          "execution_count": 21
        }
      ]
    },
    {
      "cell_type": "code",
      "source": [
        "# create constant values 'n'\n",
        "AllConstant = np.full((2,3),6)\n",
        "AllConstant"
      ],
      "metadata": {
        "colab": {
          "base_uri": "https://localhost:8080/"
        },
        "id": "f2XHZZptz1Gf",
        "outputId": "6f83992d-b6b8-4b03-a2e6-71e85498f587"
      },
      "execution_count": null,
      "outputs": [
        {
          "output_type": "execute_result",
          "data": {
            "text/plain": [
              "array([[6, 6, 6],\n",
              "       [6, 6, 6]])"
            ]
          },
          "metadata": {},
          "execution_count": 4
        }
      ]
    },
    {
      "cell_type": "code",
      "source": [
        "# Creating\n",
        "# Identity Matrix - Aii = 1 && Aij =0\n",
        "# For all A belongs to R M×N\n",
        "# Aij -\n",
        "identity = np.eye(4)\n",
        "identity"
      ],
      "metadata": {
        "colab": {
          "base_uri": "https://localhost:8080/"
        },
        "id": "HVOOZyP3wOEq",
        "outputId": "1140c2c8-fbff-439c-8ddf-3778361d297d"
      },
      "execution_count": null,
      "outputs": [
        {
          "output_type": "execute_result",
          "data": {
            "text/plain": [
              "array([[1., 0., 0., 0.],\n",
              "       [0., 1., 0., 0.],\n",
              "       [0., 0., 1., 0.],\n",
              "       [0., 0., 0., 1.]])"
            ]
          },
          "metadata": {},
          "execution_count": 10
        }
      ]
    },
    {
      "cell_type": "code",
      "source": [
        "# Random Matrix\n",
        "# vales between 0 and 1\n",
        "rand1 = np.random.rand(3,3)\n",
        "rand1"
      ],
      "metadata": {
        "id": "pYzbDiS-1E8d",
        "colab": {
          "base_uri": "https://localhost:8080/"
        },
        "outputId": "3f963291-ae17-4911-d120-59e10abaae00"
      },
      "execution_count": null,
      "outputs": [
        {
          "output_type": "execute_result",
          "data": {
            "text/plain": [
              "array([[0.72382132, 0.10121128, 0.72845422],\n",
              "       [0.16747856, 0.61503051, 0.06777732],\n",
              "       [0.60593406, 0.08907119, 0.7577064 ]])"
            ]
          },
          "metadata": {},
          "execution_count": 17
        }
      ]
    },
    {
      "cell_type": "code",
      "source": [
        "# between a and b\n",
        "rand2 = np.random.randint(10,20,(3,3))\n",
        "rand2"
      ],
      "metadata": {
        "colab": {
          "base_uri": "https://localhost:8080/"
        },
        "id": "LugjYMUt4WP-",
        "outputId": "b5652ed5-e688-43c0-f69c-8e6893c08a9d"
      },
      "execution_count": null,
      "outputs": [
        {
          "output_type": "execute_result",
          "data": {
            "text/plain": [
              "array([[15, 16, 15],\n",
              "       [19, 19, 13],\n",
              "       [16, 11, 12]])"
            ]
          },
          "metadata": {},
          "execution_count": 21
        }
      ]
    },
    {
      "source": [
        "# Array properties\n",
        "# shape or Array\n",
        "# size of Array\n",
        "# datatype of array\n",
        "# dimensions of Array\n",
        "arr= np.array([[1,2,3,4],[5,6,7,8]])\n",
        "print(f'\\nthe shape of array {arr.shape}')"
      ],
      "cell_type": "code",
      "metadata": {
        "colab": {
          "base_uri": "https://localhost:8080/"
        },
        "id": "zh_5LjC85mFV",
        "outputId": "af33a3cc-5ed7-45ed-99cc-7f0667e813ae"
      },
      "execution_count": null,
      "outputs": [
        {
          "output_type": "stream",
          "name": "stdout",
          "text": [
            "\n",
            "the shape of array (2, 4)\n"
          ]
        }
      ]
    },
    {
      "cell_type": "code",
      "source": [
        "arr.dtype"
      ],
      "metadata": {
        "colab": {
          "base_uri": "https://localhost:8080/"
        },
        "id": "Y4J_M9ml5vtx",
        "outputId": "9c776034-c112-4bf7-8737-5f01fbf2d59a"
      },
      "execution_count": null,
      "outputs": [
        {
          "output_type": "execute_result",
          "data": {
            "text/plain": [
              "dtype('int64')"
            ]
          },
          "metadata": {},
          "execution_count": 26
        }
      ]
    },
    {
      "cell_type": "code",
      "source": [
        "arr.size"
      ],
      "metadata": {
        "colab": {
          "base_uri": "https://localhost:8080/"
        },
        "id": "So4Szo9w5x4t",
        "outputId": "08c9321a-3eb3-446d-c2c7-6eab3b810cb7"
      },
      "execution_count": null,
      "outputs": [
        {
          "output_type": "execute_result",
          "data": {
            "text/plain": [
              "8"
            ]
          },
          "metadata": {},
          "execution_count": 27
        }
      ]
    },
    {
      "cell_type": "code",
      "source": [
        "arr.ndim #dimention"
      ],
      "metadata": {
        "colab": {
          "base_uri": "https://localhost:8080/"
        },
        "id": "gD6LEvif519I",
        "outputId": "fe4cbcae-cb0a-46f0-cc82-f8ed556ae3da"
      },
      "execution_count": null,
      "outputs": [
        {
          "output_type": "execute_result",
          "data": {
            "text/plain": [
              "2"
            ]
          },
          "metadata": {},
          "execution_count": 33
        }
      ]
    },
    {
      "cell_type": "code",
      "source": [
        "np.version"
      ],
      "metadata": {
        "colab": {
          "base_uri": "https://localhost:8080/"
        },
        "id": "pnsnoet66JWC",
        "outputId": "618638ec-46e0-4b06-afae-b2dd392b8748"
      },
      "execution_count": null,
      "outputs": [
        {
          "output_type": "execute_result",
          "data": {
            "text/plain": [
              "<module 'numpy.version' from '/usr/local/lib/python3.11/dist-packages/numpy/version.py'>"
            ]
          },
          "metadata": {},
          "execution_count": 32
        }
      ]
    },
    {
      "cell_type": "code",
      "source": [
        "# indexing and Slicing\n",
        "# Accessing the elements in 1D Array\n",
        "arR = np.array([1,2,3,4])\n",
        "arR[1]"
      ],
      "metadata": {
        "colab": {
          "base_uri": "https://localhost:8080/"
        },
        "id": "-VOZ6sYl7pVA",
        "outputId": "4db3d9bd-22c1-43ca-f8d1-af7cb8affbeb"
      },
      "execution_count": null,
      "outputs": [
        {
          "output_type": "execute_result",
          "data": {
            "text/plain": [
              "2"
            ]
          },
          "metadata": {},
          "execution_count": 35
        }
      ]
    },
    {
      "cell_type": "code",
      "source": [
        "# Slicing elements\n",
        "arR[0:3]"
      ],
      "metadata": {
        "colab": {
          "base_uri": "https://localhost:8080/"
        },
        "id": "ghfui49m8OYo",
        "outputId": "62ad5dbc-0c14-4221-c504-ffc5121ed789"
      },
      "execution_count": null,
      "outputs": [
        {
          "output_type": "execute_result",
          "data": {
            "text/plain": [
              "array([1, 2, 3])"
            ]
          },
          "metadata": {},
          "execution_count": 40
        }
      ]
    },
    {
      "cell_type": "code",
      "source": [
        "# accessing\n",
        "arr2D[1,1]"
      ],
      "metadata": {
        "colab": {
          "base_uri": "https://localhost:8080/"
        },
        "id": "Z55lZWO88ju9",
        "outputId": "f97d7e78-2e12-43c1-935d-3a2526ff0df6"
      },
      "execution_count": null,
      "outputs": [
        {
          "output_type": "execute_result",
          "data": {
            "text/plain": [
              "array([1, 2, 3])"
            ]
          },
          "metadata": {},
          "execution_count": 45
        }
      ]
    },
    {
      "cell_type": "code",
      "source": [
        "arr2D"
      ],
      "metadata": {
        "colab": {
          "base_uri": "https://localhost:8080/"
        },
        "id": "xe5Sa8sZ-L79",
        "outputId": "7537def6-ce98-4aec-b45a-4f4fc9187fa7"
      },
      "execution_count": null,
      "outputs": [
        {
          "output_type": "execute_result",
          "data": {
            "text/plain": [
              "array([[1, 2, 3],\n",
              "       [4, 5, 6]])"
            ]
          },
          "metadata": {},
          "execution_count": 51
        }
      ]
    },
    {
      "cell_type": "code",
      "source": [
        "arr2D[0,:] #first row all columns"
      ],
      "metadata": {
        "colab": {
          "base_uri": "https://localhost:8080/"
        },
        "id": "g4nhI89B9icQ",
        "outputId": "d10cbedc-e829-4d6f-dcac-f19a27994491"
      },
      "execution_count": null,
      "outputs": [
        {
          "output_type": "execute_result",
          "data": {
            "text/plain": [
              "array([1, 4])"
            ]
          },
          "metadata": {},
          "execution_count": 49
        }
      ]
    },
    {
      "cell_type": "code",
      "source": [
        "arr2D[:,0] #first column all rows"
      ],
      "metadata": {
        "colab": {
          "base_uri": "https://localhost:8080/"
        },
        "id": "USuxyj2A-A4Q",
        "outputId": "84ef4e1d-9063-4071-c877-88c8fea3cb35"
      },
      "execution_count": null,
      "outputs": [
        {
          "output_type": "execute_result",
          "data": {
            "text/plain": [
              "array([1, 4])"
            ]
          },
          "metadata": {},
          "execution_count": 50
        }
      ]
    },
    {
      "cell_type": "code",
      "source": [
        "L1 = []\n",
        "L1= np.arange(10,-10,-1)\n",
        "L1\n",
        "#[L1.append(_) for _ in range(10)]"
      ],
      "metadata": {
        "id": "6Pd1IGT_-ZAD",
        "colab": {
          "base_uri": "https://localhost:8080/"
        },
        "outputId": "d9ba4dfe-c307-4a83-b2da-82b97202b1a7"
      },
      "execution_count": 63,
      "outputs": [
        {
          "output_type": "execute_result",
          "data": {
            "text/plain": [
              "array([10,  9,  8,  7,  6,  5,  4,  3,  2,  1,  0, -1, -2, -3, -4, -5, -6,\n",
              "       -7, -8, -9])"
            ]
          },
          "metadata": {},
          "execution_count": 63
        }
      ]
    },
    {
      "cell_type": "code",
      "source": [
        "# Mathematical Operations\n",
        "a = np.array([1,2,3])\n",
        "b = np.array([3,4,5])\n",
        "a - b\n",
        "a+b\n",
        "a*b\n",
        "a/b"
      ],
      "metadata": {
        "colab": {
          "base_uri": "https://localhost:8080/"
        },
        "id": "pCw4jdSRB2AV",
        "outputId": "6ed2c1f9-ecfb-4227-8fdf-a47ecec7b7a8"
      },
      "execution_count": 69,
      "outputs": [
        {
          "output_type": "execute_result",
          "data": {
            "text/plain": [
              "array([0.33333333, 0.5       , 0.6       ])"
            ]
          },
          "metadata": {},
          "execution_count": 69
        }
      ]
    },
    {
      "cell_type": "code",
      "source": [
        "# Matrix multiplication 2D\n",
        "B1 = np.array([[1,2,3],[2,3,4]])\n",
        "B2 = np.array([[5,6],[5,7],[6,7]])\n",
        "# \"dot\" product\n",
        "c = np.dot(B1,B2)\n",
        "c"
      ],
      "metadata": {
        "colab": {
          "base_uri": "https://localhost:8080/"
        },
        "id": "tNfPbFCWCdWF",
        "outputId": "e8bb5d56-0444-474c-b35d-6f038a3d1334"
      },
      "execution_count": 75,
      "outputs": [
        {
          "output_type": "execute_result",
          "data": {
            "text/plain": [
              "array([[33, 41],\n",
              "       [49, 61]])"
            ]
          },
          "metadata": {},
          "execution_count": 75
        }
      ]
    },
    {
      "cell_type": "code",
      "source": [
        "B1"
      ],
      "metadata": {
        "colab": {
          "base_uri": "https://localhost:8080/"
        },
        "id": "s7BRf8fDEMr7",
        "outputId": "d4cc8136-751f-4548-ba19-ed1243d21f29"
      },
      "execution_count": 76,
      "outputs": [
        {
          "output_type": "execute_result",
          "data": {
            "text/plain": [
              "array([[1, 2, 3],\n",
              "       [2, 3, 4]])"
            ]
          },
          "metadata": {},
          "execution_count": 76
        }
      ]
    },
    {
      "cell_type": "code",
      "source": [
        "B2"
      ],
      "metadata": {
        "colab": {
          "base_uri": "https://localhost:8080/"
        },
        "id": "IUTRtQz9Eq5r",
        "outputId": "b790e0e0-92ac-432e-bd02-6aedf1548e31"
      },
      "execution_count": 77,
      "outputs": [
        {
          "output_type": "execute_result",
          "data": {
            "text/plain": [
              "array([[5, 6],\n",
              "       [5, 7],\n",
              "       [6, 7]])"
            ]
          },
          "metadata": {},
          "execution_count": 77
        }
      ]
    }
  ]
}